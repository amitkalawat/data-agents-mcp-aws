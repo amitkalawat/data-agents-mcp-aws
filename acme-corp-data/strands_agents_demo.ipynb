{
 "cells": [
  {
   "cell_type": "markdown",
   "metadata": {},
   "source": [
    "# Acme Corp Data Agents with Strands SDK\n",
    "\n",
    "This notebook demonstrates how to create AI agents using the Strands SDK to interact with Acme Corp's MCP servers for:\n",
    "- User Details\n",
    "- Streaming Analytics\n",
    "- Ad Campaign Data\n",
    "\n",
    "## Prerequisites\n",
    "\n",
    "1. Install the Strands SDK: `pip install strands-sdk`\n",
    "2. Start the MCP servers in separate terminals:\n",
    "   - `cd acme-corp-data/mcp-servers/user-details-mcp && npm start`\n",
    "   - `cd acme-corp-data/mcp-servers/streaming-analytics-mcp && npm start`\n",
    "   - `cd acme-corp-data/mcp-servers/ad-campaign-mcp && npm start`"
   ]
  },
  {
   "cell_type": "code",
   "execution_count": null,
   "metadata": {},
   "outputs": [],
   "source": [
    "# Import required libraries\n",
    "from strands import Agent, MCPClient\n",
    "import asyncio\n",
    "import json\n",
    "from datetime import datetime, timedelta\n",
    "import pandas as pd\n",
    "import matplotlib.pyplot as plt\n",
    "import seaborn as sns\n",
    "\n",
    "# Set up plotting style\n",
    "plt.style.use('seaborn-v0_8-darkgrid')\n",
    "sns.set_palette(\"husl\")"
   ]
  },
  {
   "cell_type": "markdown",
   "metadata": {},
   "source": [
    "## 1. Initialize MCP Clients\n",
    "\n",
    "First, we'll create MCP clients for each of our data sources."
   ]
  },
  {
   "cell_type": "code",
   "execution_count": null,
   "metadata": {},
   "outputs": [],
   "source": [
    "# Initialize MCP clients\n",
    "user_details_client = MCPClient(\n",
    "    name=\"user-details\",\n",
    "    command=\"node\",\n",
    "    args=[\"acme-corp-data/mcp-servers/user-details-mcp/index.js\"]\n",
    ")\n",
    "\n",
    "streaming_analytics_client = MCPClient(\n",
    "    name=\"streaming-analytics\",\n",
    "    command=\"node\",\n",
    "    args=[\"acme-corp-data/mcp-servers/streaming-analytics-mcp/index.js\"]\n",
    ")\n",
    "\n",
    "ad_campaign_client = MCPClient(\n",
    "    name=\"ad-campaign\",\n",
    "    command=\"node\",\n",
    "    args=[\"acme-corp-data/mcp-servers/ad-campaign-mcp/index.js\"]\n",
    ")\n",
    "\n",
    "# Start all clients\n",
    "async def start_clients():\n",
    "    await user_details_client.start()\n",
    "    await streaming_analytics_client.start()\n",
    "    await ad_campaign_client.start()\n",
    "    print(\"All MCP clients started successfully!\")\n",
    "\n",
    "# Run the async function\n",
    "await start_clients()"
   ]
  },
  {
   "cell_type": "markdown",
   "metadata": {},
   "source": [
    "## 2. Create Specialized Agents\n",
    "\n",
    "We'll create different agents for different business functions."
   ]
  },
  {
   "cell_type": "code",
   "execution_count": null,
   "metadata": {},
   "outputs": [],
   "source": [
    "# Customer Insights Agent\n",
    "customer_insights_agent = Agent(\n",
    "    name=\"Customer Insights Analyst\",\n",
    "    role=\"Analyze customer behavior and provide insights\",\n",
    "    mcp_clients=[user_details_client, streaming_analytics_client],\n",
    "    system_prompt=\"\"\"You are a customer insights analyst for Acme Corp. \n",
    "    You have access to user details and streaming analytics data.\n",
    "    Provide actionable insights about customer segments, viewing behavior, and engagement patterns.\n",
    "    Always support your insights with data.\"\"\"\n",
    ")\n",
    "\n",
    "# Marketing Performance Agent\n",
    "marketing_agent = Agent(\n",
    "    name=\"Marketing Performance Specialist\",\n",
    "    role=\"Optimize ad campaigns and marketing spend\",\n",
    "    mcp_clients=[ad_campaign_client, user_details_client],\n",
    "    system_prompt=\"\"\"You are a marketing performance specialist for Acme Corp.\n",
    "    You have access to ad campaign data and user demographics.\n",
    "    Focus on ROI optimization, campaign performance, and targeting recommendations.\n",
    "    Provide specific, actionable recommendations backed by data.\"\"\"\n",
    ")\n",
    "\n",
    "# Business Intelligence Agent\n",
    "bi_agent = Agent(\n",
    "    name=\"Business Intelligence Analyst\",\n",
    "    role=\"Provide comprehensive business insights\",\n",
    "    mcp_clients=[user_details_client, streaming_analytics_client, ad_campaign_client],\n",
    "    system_prompt=\"\"\"You are a senior business intelligence analyst with access to all Acme Corp data.\n",
    "    Synthesize insights across user behavior, content performance, and marketing effectiveness.\n",
    "    Identify cross-functional opportunities and strategic recommendations.\n",
    "    Present findings in a clear, executive-ready format.\"\"\"\n",
    ")\n",
    "\n",
    "print(\"Agents created successfully!\")"
   ]
  },
  {
   "cell_type": "markdown",
   "metadata": {},
   "source": [
    "## 3. Customer Insights Analysis\n",
    "\n",
    "Let's use the Customer Insights Agent to analyze user segments and behavior."
   ]
  },
  {
   "cell_type": "code",
   "execution_count": null,
   "metadata": {},
   "outputs": [],
   "source": [
    "# Analyze customer segments\n",
    "segment_analysis = await customer_insights_agent.query(\n",
    "    \"\"\"Analyze our customer base:\n",
    "    1. What are the main customer segments by subscription type and demographics?\n",
    "    2. Which segments show the highest engagement with our streaming content?\n",
    "    3. Are there any underserved segments we should target?\n",
    "    \"\"\"\n",
    ")\n",
    "\n",
    "print(segment_analysis)"
   ]
  },
  {
   "cell_type": "code",
   "execution_count": null,
   "metadata": {},
   "outputs": [],
   "source": [
    "# Deep dive into viewing patterns\n",
    "viewing_patterns = await customer_insights_agent.query(\n",
    "    \"\"\"Analyze viewing patterns:\n",
    "    1. What are the peak viewing hours across different user segments?\n",
    "    2. Which content genres drive the most engagement?\n",
    "    3. What's the correlation between subscription type and content preferences?\n",
    "    4. Identify users with declining engagement who might churn.\n",
    "    \"\"\"\n",
    ")\n",
    "\n",
    "print(viewing_patterns)"
   ]
  },
  {
   "cell_type": "markdown",
   "metadata": {},
   "source": [
    "## 4. Marketing Campaign Optimization\n",
    "\n",
    "Now let's use the Marketing Agent to optimize our ad campaigns."
   ]
  },
  {
   "cell_type": "code",
   "execution_count": null,
   "metadata": {},
   "outputs": [],
   "source": [
    "# Campaign performance analysis\n",
    "campaign_analysis = await marketing_agent.query(\n",
    "    \"\"\"Analyze our current ad campaigns:\n",
    "    1. Which campaigns have the best ROI?\n",
    "    2. What are the main issues with underperforming campaigns?\n",
    "    3. How do attribution paths differ across platforms?\n",
    "    4. Provide specific optimization recommendations for our top 3 campaigns.\n",
    "    \"\"\"\n",
    ")\n",
    "\n",
    "print(campaign_analysis)"
   ]
  },
  {
   "cell_type": "code",
   "execution_count": null,
   "metadata": {},
   "outputs": [],
   "source": [
    "# Targeting optimization\n",
    "targeting_recommendations = await marketing_agent.query(\n",
    "    \"\"\"Based on our user data and campaign performance:\n",
    "    1. Which user segments should we target more aggressively?\n",
    "    2. Are there high-value segments we're missing?\n",
    "    3. How should we adjust our budget allocation across platforms?\n",
    "    4. What creative strategies would resonate with our key segments?\n",
    "    \"\"\"\n",
    ")\n",
    "\n",
    "print(targeting_recommendations)"
   ]
  },
  {
   "cell_type": "markdown",
   "metadata": {},
   "source": [
    "## 5. Executive Business Intelligence Report\n",
    "\n",
    "Let's use the BI Agent to create a comprehensive business report."
   ]
  },
  {
   "cell_type": "code",
   "execution_count": null,
   "metadata": {},
   "outputs": [],
   "source": [
    "# Comprehensive business analysis\n",
    "executive_report = await bi_agent.query(\n",
    "    \"\"\"Create an executive summary covering:\n",
    "    \n",
    "    1. Business Health Metrics:\n",
    "       - Total active users and growth trends\n",
    "       - Revenue by subscription tier\n",
    "       - Customer acquisition cost vs lifetime value\n",
    "    \n",
    "    2. Content Performance:\n",
    "       - Top performing content and genres\n",
    "       - User engagement metrics and trends\n",
    "       - Content ROI analysis\n",
    "    \n",
    "    3. Marketing Effectiveness:\n",
    "       - Overall marketing ROI\n",
    "       - Channel performance comparison\n",
    "       - Customer acquisition funnel analysis\n",
    "    \n",
    "    4. Strategic Recommendations:\n",
    "       - Top 3 growth opportunities\n",
    "       - Risk factors to monitor\n",
    "       - Resource allocation recommendations\n",
    "    \n",
    "    Present this as an executive-ready report with clear metrics and actionable insights.\n",
    "    \"\"\"\n",
    ")\n",
    "\n",
    "print(executive_report)"
   ]
  },
  {
   "cell_type": "markdown",
   "metadata": {},
   "source": [
    "## 6. Interactive Analysis Examples\n",
    "\n",
    "Here are some interactive analysis examples you can try."
   ]
  },
  {
   "cell_type": "code",
   "execution_count": null,
   "metadata": {},
   "outputs": [],
   "source": [
    "# Example 1: Find similar users for targeted campaigns\n",
    "similar_users_analysis = await marketing_agent.query(\n",
    "    \"\"\"Find users similar to our top converters from campaign 'camp_001':\n",
    "    1. Identify the characteristics of users who converted\n",
    "    2. Find similar users who haven't been targeted yet\n",
    "    3. Estimate the potential ROI of targeting these users\n",
    "    \"\"\"\n",
    ")\n",
    "\n",
    "print(similar_users_analysis)"
   ]
  },
  {
   "cell_type": "code",
   "execution_count": null,
   "metadata": {},
   "outputs": [],
   "source": [
    "# Example 2: Content recommendation strategy\n",
    "content_strategy = await customer_insights_agent.query(\n",
    "    \"\"\"Develop a content recommendation strategy:\n",
    "    1. Which users are most likely to upgrade to premium based on viewing patterns?\n",
    "    2. What content should we recommend to increase engagement?\n",
    "    3. How can we reduce churn for users with declining engagement?\n",
    "    \"\"\"\n",
    ")\n",
    "\n",
    "print(content_strategy)"
   ]
  },
  {
   "cell_type": "code",
   "execution_count": null,
   "metadata": {},
   "outputs": [],
   "source": [
    "# Example 3: Cross-sell opportunities\n",
    "cross_sell_analysis = await bi_agent.query(\n",
    "    \"\"\"Identify cross-sell opportunities:\n",
    "    1. Which free users show behavior patterns similar to premium subscribers?\n",
    "    2. What's the optimal timing for upgrade offers based on user journey?\n",
    "    3. Which marketing channels are most effective for upgrade campaigns?\n",
    "    4. Calculate potential revenue impact of a targeted upgrade campaign.\n",
    "    \"\"\"\n",
    ")\n",
    "\n",
    "print(cross_sell_analysis)"
   ]
  },
  {
   "cell_type": "markdown",
   "metadata": {},
   "source": [
    "## 7. Custom Analysis Function\n",
    "\n",
    "Create a reusable function for common analyses."
   ]
  },
  {
   "cell_type": "code",
   "execution_count": null,
   "metadata": {},
   "outputs": [],
   "source": [
    "async def cohort_analysis(agent, cohort_definition, metrics):\n",
    "    \"\"\"\n",
    "    Perform cohort analysis on user segments\n",
    "    \n",
    "    Args:\n",
    "        agent: The Strands agent to use\n",
    "        cohort_definition: How to define the cohort (e.g., \"users who joined in January\")\n",
    "        metrics: List of metrics to analyze (e.g., [\"retention\", \"engagement\", \"revenue\"])\n",
    "    \"\"\"\n",
    "    query = f\"\"\"\n",
    "    Perform cohort analysis for {cohort_definition}:\n",
    "    \n",
    "    Analyze the following metrics:\n",
    "    {', '.join(metrics)}\n",
    "    \n",
    "    Provide:\n",
    "    1. Cohort size and characteristics\n",
    "    2. Metric trends over time\n",
    "    3. Comparison with other cohorts\n",
    "    4. Actionable insights for this cohort\n",
    "    \"\"\"\n",
    "    \n",
    "    return await agent.query(query)\n",
    "\n",
    "# Example usage\n",
    "premium_cohort_analysis = await cohort_analysis(\n",
    "    customer_insights_agent,\n",
    "    \"Premium subscribers who joined in the last 30 days\",\n",
    "    [\"content engagement\", \"viewing hours\", \"genre preferences\"]\n",
    ")\n",
    "\n",
    "print(premium_cohort_analysis)"
   ]
  },
  {
   "cell_type": "markdown",
   "metadata": {},
   "source": [
    "## 8. Multi-Agent Collaboration\n",
    "\n",
    "Example of multiple agents working together on a complex analysis."
   ]
  },
  {
   "cell_type": "code",
   "execution_count": null,
   "metadata": {},
   "outputs": [],
   "source": [
    "# Step 1: Customer Insights Agent identifies high-value segments\n",
    "high_value_segments = await customer_insights_agent.query(\n",
    "    \"Identify the top 3 most valuable customer segments based on engagement and viewing patterns.\"\n",
    ")\n",
    "\n",
    "print(\"Step 1 - High Value Segments:\")\n",
    "print(high_value_segments)\n",
    "print(\"\\n\" + \"=\"*50 + \"\\n\")\n",
    "\n",
    "# Step 2: Marketing Agent develops targeting strategy\n",
    "targeting_strategy = await marketing_agent.query(\n",
    "    f\"\"\"Based on these high-value segments identified:\n",
    "    {high_value_segments}\n",
    "    \n",
    "    Develop a targeted marketing strategy:\n",
    "    1. Which campaigns should we create or modify?\n",
    "    2. What's the optimal budget allocation?\n",
    "    3. Which platforms should we prioritize?\n",
    "    \"\"\"\n",
    ")\n",
    "\n",
    "print(\"Step 2 - Targeting Strategy:\")\n",
    "print(targeting_strategy)\n",
    "print(\"\\n\" + \"=\"*50 + \"\\n\")\n",
    "\n",
    "# Step 3: BI Agent projects business impact\n",
    "business_impact = await bi_agent.query(\n",
    "    f\"\"\"Based on the targeting strategy:\n",
    "    {targeting_strategy}\n",
    "    \n",
    "    Project the business impact:\n",
    "    1. Expected ROI and revenue increase\n",
    "    2. User acquisition and retention improvements\n",
    "    3. Overall impact on business KPIs\n",
    "    4. Implementation timeline and resource requirements\n",
    "    \"\"\"\n",
    ")\n",
    "\n",
    "print(\"Step 3 - Business Impact:\")\n",
    "print(business_impact)"
   ]
  },
  {
   "cell_type": "markdown",
   "metadata": {},
   "source": [
    "## 9. Cleanup\n",
    "\n",
    "Don't forget to clean up the MCP connections when done."
   ]
  },
  {
   "cell_type": "code",
   "execution_count": null,
   "metadata": {},
   "outputs": [],
   "source": [
    "# Close all MCP client connections\n",
    "async def cleanup():\n",
    "    await user_details_client.stop()\n",
    "    await streaming_analytics_client.stop()\n",
    "    await ad_campaign_client.stop()\n",
    "    print(\"All MCP clients stopped successfully!\")\n",
    "\n",
    "await cleanup()"
   ]
  },
  {
   "cell_type": "markdown",
   "metadata": {},
   "source": [
    "## Summary\n",
    "\n",
    "This notebook demonstrated how to:\n",
    "\n",
    "1. **Connect to MCP Servers**: Initialize connections to multiple data sources\n",
    "2. **Create Specialized Agents**: Build agents with specific roles and expertise\n",
    "3. **Perform Complex Analyses**: Use natural language to query and analyze data\n",
    "4. **Multi-Agent Collaboration**: Coordinate multiple agents for comprehensive insights\n",
    "5. **Generate Business Intelligence**: Create executive-ready reports and recommendations\n",
    "\n",
    "### Key Benefits:\n",
    "\n",
    "- **Natural Language Interface**: Query data using plain English\n",
    "- **Contextual Understanding**: Agents understand business context and objectives\n",
    "- **Cross-Functional Analysis**: Combine data from multiple sources seamlessly\n",
    "- **Actionable Insights**: Get specific recommendations, not just data\n",
    "\n",
    "### Next Steps:\n",
    "\n",
    "1. Extend the MCP servers with more sophisticated analytics tools\n",
    "2. Create more specialized agents for specific business functions\n",
    "3. Build automated reporting workflows\n",
    "4. Integrate with real-time data streams for live monitoring\n",
    "5. Add visualization capabilities to the agents"
   ]
  }
 ],
 "metadata": {
  "kernelspec": {
   "display_name": "Python 3",
   "language": "python",
   "name": "python3"
  },
  "language_info": {
   "codemirror_mode": {
    "name": "ipython",
    "version": 3
   },
   "file_extension": ".py",
   "mimetype": "text/x-python",
   "name": "python",
   "nbconvert_exporter": "python",
   "pygments_lexer": "ipython3",
   "version": "3.8.0"
  }
 },
 "nbformat": 4,
 "nbformat_minor": 4
}
